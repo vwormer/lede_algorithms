{
 "cells": [
  {
   "cell_type": "markdown",
   "metadata": {},
   "source": [
    "# Algorithms\n",
    "\n",
    "# Homework 1\n",
    "\n",
    "Vanessa Wormer\n",
    "\n",
    "UNI vw2210"
   ]
  },
  {
   "cell_type": "markdown",
   "metadata": {},
   "source": [
    "# 1. Write a function that takes in a list of numbers and outputs the mean of the numbers using the formula for mean. Do this without any built-in functions like sum(), len(), and, of course, mean()"
   ]
  },
  {
   "cell_type": "code",
   "execution_count": 1,
   "metadata": {
    "collapsed": false
   },
   "outputs": [
    {
     "data": {
      "text/plain": [
       "3.5"
      ]
     },
     "execution_count": 1,
     "metadata": {},
     "output_type": "execute_result"
    }
   ],
   "source": [
    "n = [2,3,4,5]\n",
    "\n",
    "def average(n):\n",
    "    list_sum = 0\n",
    "    list_count = 0\n",
    "    for i in n:\n",
    "        list_sum = list_sum + i # list_sum += i\n",
    "        list_count = list_count + 1 # list_count += 1\n",
    "    return list_sum/float(list_count)\n",
    "average(n)"
   ]
  },
  {
   "cell_type": "markdown",
   "metadata": {},
   "source": [
    "# 2. Create your own version of the Mayoral Excuse Machine (http://dnain.fo/1CCHKmI) in Python that takes in a name and location, selects an excuse at random and prints an excuse (“Sorry, Richard, I was late to City Hall to meet you, I had a very rough night and woke up sluggish”).  Use the “excuses.csv” in the Github repository. Extra credit if you print the link to the story as well."
   ]
  },
  {
   "cell_type": "code",
   "execution_count": 92,
   "metadata": {
    "collapsed": false
   },
   "outputs": [
    {
     "name": "stdout",
     "output_type": "stream",
     "text": [
      "Enter your name: Vanessa\n",
      "Enter your location: Uni\n",
      "Sorry Vanessa I was late at the Uni because we had some meetings at Gracie Mansion and that's the full story: http://www.dnainfo.com/new-york/20150307/belle-harbor/de-blasio-30-minutes-late-rockaway-st-patricks-day-parade\n"
     ]
    }
   ],
   "source": [
    "import csv\n",
    "import random\n",
    "myfile = open(\"excuse.csv\", 'rU')\n",
    "excuses = list(csv.DictReader(myfile))\n",
    "\n",
    "#def excuse(name, location):\n",
    " #   return \"Sorry \" + name + \" I was late to \" + location + \" to meet you \" + line[\"excuse\"]\n",
    "#print excuse(\"Vanessa\", \"Paris\")\n",
    "    \n",
    "    \n",
    "name = raw_input(\"Enter your name: \")\n",
    "location = raw_input(\"Enter your location: \")\n",
    "\n",
    "def excuse(name, location):\n",
    "   random_excuse = random.choice(excuses)\n",
    "   return \"Sorry \"+ name +\" I was late at the \"+ location+ \" because \"+ random_excuse[\"excuse\"]+\" and that's the full story: \"+ random_excuse[\"hyperlink\"]  \n",
    "print excuse(name, location)"
   ]
  },
  {
   "cell_type": "markdown",
   "metadata": {},
   "source": [
    "# 3. The following code will print the prime numbers between 1 and 100. Modify the code so it prints every other prime number from 1 to 100"
   ]
  },
  {
   "cell_type": "code",
   "execution_count": 93,
   "metadata": {
    "collapsed": false
   },
   "outputs": [
    {
     "name": "stdout",
     "output_type": "stream",
     "text": [
      "[1, 5, 13, 23, 37, 47, 61, 73, 89]\n"
     ]
    }
   ],
   "source": [
    "l = []\n",
    "for num in range(1,101): # for-loop through the numbers\n",
    "    prime = True # boolean flag to check the number for being prime\n",
    "    for i in range(2,num): # for-loop to check for \"primeness\" by checking for divisors other than 1\n",
    "        if (num%i==0): # logical test for the number having a divisor other than 1 and itself\n",
    "            prime = False # if there's a divisor, the boolean value gets flipped to False\n",
    "    if prime: # if prime is still True after going through all numbers from 1 - 100, then it gets printed\n",
    "        l.append(num) \n",
    "print l[::3]"
   ]
  },
  {
   "cell_type": "markdown",
   "metadata": {
    "collapsed": true
   },
   "source": [
    "# Extra Credit: Can you write a procedure that runs faster than the one above?"
   ]
  },
  {
   "cell_type": "code",
   "execution_count": 94,
   "metadata": {
    "collapsed": true
   },
   "outputs": [],
   "source": [
    "l = ()"
   ]
  },
  {
   "cell_type": "markdown",
   "metadata": {},
   "source": []
  },
  {
   "cell_type": "markdown",
   "metadata": {
    "collapsed": false
   },
   "source": [
    "# The writer of this code wants to count the mean and median article length for recent articles on gay marriage in the New York Times. This code has several issues, including errors. When they checked their custom functions against the numpy functions, they noticed some discrepancies. Fix the code so it executes properly, retrieves the articles, and outputs the correct result from the custom functions, compared to the numpy functions."
   ]
  },
  {
   "cell_type": "code",
   "execution_count": 95,
   "metadata": {
    "collapsed": true
   },
   "outputs": [],
   "source": [
    "import requests # a better package than urllib2\n",
    "\n",
    "def my_mean(input_list):\n",
    "    list_sum = 0\n",
    "    list_count = 0\n",
    "    for el in input_list:\n",
    "        list_sum += int(el)\n",
    "        list_count += 1\n",
    "    return list_sum / list_count, list_count"
   ]
  },
  {
   "cell_type": "code",
   "execution_count": 96,
   "metadata": {
    "collapsed": true
   },
   "outputs": [],
   "source": [
    "def my_median(input_list):\n",
    "    list_length = len(input_list)\n",
    "    if len(input_list)%2==0:\n",
    "        return (sorted(input_list)[((list_length)/2)]+sorted(input_list)[((list_length)/2)-1])/2\n",
    "    else:\n",
    "        return sorted(input_list)[(list_length)/2]"
   ]
  },
  {
   "cell_type": "code",
   "execution_count": 97,
   "metadata": {
    "collapsed": true
   },
   "outputs": [],
   "source": [
    "api_key = \"ffaf60d7d82258e112dd4fb2b5e4e2d6:3:72421680\""
   ]
  },
  {
   "cell_type": "code",
   "execution_count": 98,
   "metadata": {
    "collapsed": false
   },
   "outputs": [],
   "source": [
    "url = \"http://api.nytimes.com/svc/search/v2/articlesearch.json?q=gay+marriage&api-key=%s\" % api_key"
   ]
  },
  {
   "cell_type": "code",
   "execution_count": 99,
   "metadata": {
    "collapsed": true
   },
   "outputs": [],
   "source": [
    "r = requests.get(url)"
   ]
  },
  {
   "cell_type": "code",
   "execution_count": 109,
   "metadata": {
    "collapsed": false
   },
   "outputs": [],
   "source": [
    "wc_list = []\n",
    "for article in r.json()['response']['docs']:\n",
    "    wc_list.append(int(article['word_count']))"
   ]
  },
  {
   "cell_type": "code",
   "execution_count": 110,
   "metadata": {
    "collapsed": false
   },
   "outputs": [
    {
     "data": {
      "text/plain": [
       "(1100, 10)"
      ]
     },
     "execution_count": 110,
     "metadata": {},
     "output_type": "execute_result"
    }
   ],
   "source": [
    "my_mean(wc_list)"
   ]
  },
  {
   "cell_type": "code",
   "execution_count": 111,
   "metadata": {
    "collapsed": true
   },
   "outputs": [],
   "source": [
    "import numpy as np"
   ]
  },
  {
   "cell_type": "code",
   "execution_count": 112,
   "metadata": {
    "collapsed": false
   },
   "outputs": [
    {
     "data": {
      "text/plain": [
       "1100.0999999999999"
      ]
     },
     "execution_count": 112,
     "metadata": {},
     "output_type": "execute_result"
    }
   ],
   "source": [
    "np.mean(wc_list)"
   ]
  },
  {
   "cell_type": "code",
   "execution_count": 113,
   "metadata": {
    "collapsed": false
   },
   "outputs": [
    {
     "data": {
      "text/plain": [
       "1056"
      ]
     },
     "execution_count": 113,
     "metadata": {},
     "output_type": "execute_result"
    }
   ],
   "source": [
    "my_median(wc_list)"
   ]
  },
  {
   "cell_type": "code",
   "execution_count": 114,
   "metadata": {
    "collapsed": false
   },
   "outputs": [
    {
     "data": {
      "text/plain": [
       "1056.0"
      ]
     },
     "execution_count": 114,
     "metadata": {},
     "output_type": "execute_result"
    }
   ],
   "source": [
    "np.median(wc_list)"
   ]
  },
  {
   "cell_type": "markdown",
   "metadata": {},
   "source": [
    "# 5. Watch this video on how Yelp determines whether to recommend a review:  https://youtu.be/PniMEnM89iY Based on the video, think about the features necessary for the algorithm to determine whether to recommend a review and write a short blogpost on the class Tumblr discussing what features you think Yelp is using and how they might quantifying what they’re trying to measure"
   ]
  },
  {
   "cell_type": "markdown",
   "metadata": {
    "collapsed": true
   },
   "source": [
    "Yelp’s non-neutral algorithm\n",
    "\n",
    "The video “Why does Yelp recommend reviews?” has a clear message: it is saying that reviews are not treated equally. Yelp judges reviews based on algorithms. Nevertheless, Yelp is claiming that the algorithm is kind of “neutral”. \n",
    "\n",
    "Truth is, no algorithm is neutral. It is necessarily defined by someone. In this case, the algorithm seems to be a complex construction based on a user’s virtual rename. So, for example, the reviews written by well-known users appears as Yelp´s preferred reviews. \n",
    "\n",
    "An established is someone who has already written at least a few reviews. My guess is that the the length of your inscription on Yelp is another decisive factor.  Others questions that Yelp´s algorithm might be asking when determining whose reviews deserved to be recommended might be: how many times per day is the user active? Has the user been rather active or passive? Is the user only reading the reviews or is she/he also providing content? The algorithm might also prefer users who have a complete profile on Yelp and don´t mind sharing information such as their age, gender, address as well as links to their various social media accounts.\n",
    "\n",
    "Finally, I imagine that the user´s location could also be a key feature. Could it even be possible for an algorithm to use cellphone´s GPS data to tell whether or not the user has actually visited the place recommended? Hence, in that way measurements could be quantified."
   ]
  }
 ],
 "metadata": {
  "kernelspec": {
   "display_name": "Python 2",
   "language": "python",
   "name": "python2"
  },
  "language_info": {
   "codemirror_mode": {
    "name": "ipython",
    "version": 2
   },
   "file_extension": ".py",
   "mimetype": "text/x-python",
   "name": "python",
   "nbconvert_exporter": "python",
   "pygments_lexer": "ipython2",
   "version": "2.7.10"
  }
 },
 "nbformat": 4,
 "nbformat_minor": 0
}
