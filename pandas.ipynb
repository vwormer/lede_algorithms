{
 "cells": [
  {
   "cell_type": "code",
   "execution_count": 2,
   "metadata": {
    "collapsed": true
   },
   "outputs": [],
   "source": [
    "import pandas as pd"
   ]
  },
  {
   "cell_type": "code",
   "execution_count": 3,
   "metadata": {
    "collapsed": true
   },
   "outputs": [],
   "source": [
    "%matplotlib inline"
   ]
  },
  {
   "cell_type": "code",
   "execution_count": 4,
   "metadata": {
    "collapsed": true
   },
   "outputs": [],
   "source": [
    "df = pd.read_csv(\"data_collection_sheet.csv\") "
   ]
  },
  {
   "cell_type": "code",
   "execution_count": 23,
   "metadata": {
    "collapsed": false
   },
   "outputs": [
    {
     "data": {
      "text/html": [
       "<div style=\"max-height:1000px;max-width:1500px;overflow:auto;\">\n",
       "<table border=\"1\" class=\"dataframe\">\n",
       "  <thead>\n",
       "    <tr style=\"text-align: right;\">\n",
       "      <th></th>\n",
       "      <th>name</th>\n",
       "      <th>height (inches)</th>\n",
       "      <th>age (years)</th>\n",
       "      <th>siblings (not including you)</th>\n",
       "    </tr>\n",
       "  </thead>\n",
       "  <tbody>\n",
       "    <tr>\n",
       "      <th>0 </th>\n",
       "      <td>   Richard</td>\n",
       "      <td> 72.0000</td>\n",
       "      <td> 35</td>\n",
       "      <td> 1</td>\n",
       "    </tr>\n",
       "    <tr>\n",
       "      <th>1 </th>\n",
       "      <td>      Adam</td>\n",
       "      <td> 71.0000</td>\n",
       "      <td> 29</td>\n",
       "      <td> 1</td>\n",
       "    </tr>\n",
       "    <tr>\n",
       "      <th>2 </th>\n",
       "      <td>   Rashida</td>\n",
       "      <td> 62.0000</td>\n",
       "      <td> 24</td>\n",
       "      <td> 0</td>\n",
       "    </tr>\n",
       "    <tr>\n",
       "      <th>3 </th>\n",
       "      <td>      Spe </td>\n",
       "      <td> 62.0000</td>\n",
       "      <td> 23</td>\n",
       "      <td> 1</td>\n",
       "    </tr>\n",
       "    <tr>\n",
       "      <th>4 </th>\n",
       "      <td>  Jiachuan</td>\n",
       "      <td> 67.0000</td>\n",
       "      <td> 25</td>\n",
       "      <td> 0</td>\n",
       "    </tr>\n",
       "    <tr>\n",
       "      <th>5 </th>\n",
       "      <td>        GK</td>\n",
       "      <td> 66.0000</td>\n",
       "      <td> 36</td>\n",
       "      <td> 1</td>\n",
       "    </tr>\n",
       "    <tr>\n",
       "      <th>6 </th>\n",
       "      <td>     Fanny</td>\n",
       "      <td> 64.0000</td>\n",
       "      <td> 32</td>\n",
       "      <td> 3</td>\n",
       "    </tr>\n",
       "    <tr>\n",
       "      <th>7 </th>\n",
       "      <td>    Meghan</td>\n",
       "      <td> 65.0000</td>\n",
       "      <td> 27</td>\n",
       "      <td> 2</td>\n",
       "    </tr>\n",
       "    <tr>\n",
       "      <th>8 </th>\n",
       "      <td>    Arthur</td>\n",
       "      <td> 74.0000</td>\n",
       "      <td> 49</td>\n",
       "      <td> 1</td>\n",
       "    </tr>\n",
       "    <tr>\n",
       "      <th>9 </th>\n",
       "      <td>   Elliott</td>\n",
       "      <td> 66.0000</td>\n",
       "      <td> 31</td>\n",
       "      <td> 3</td>\n",
       "    </tr>\n",
       "    <tr>\n",
       "      <th>10</th>\n",
       "      <td>     Aliza</td>\n",
       "      <td> 64.0000</td>\n",
       "      <td> 23</td>\n",
       "      <td> 1</td>\n",
       "    </tr>\n",
       "    <tr>\n",
       "      <th>11</th>\n",
       "      <td>   Lindsay</td>\n",
       "      <td> 67.0000</td>\n",
       "      <td> 22</td>\n",
       "      <td> 2</td>\n",
       "    </tr>\n",
       "    <tr>\n",
       "      <th>12</th>\n",
       "      <td>   Michael</td>\n",
       "      <td> 71.0000</td>\n",
       "      <td> 49</td>\n",
       "      <td> 3</td>\n",
       "    </tr>\n",
       "    <tr>\n",
       "      <th>13</th>\n",
       "      <td>   Vanessa</td>\n",
       "      <td> 66.0000</td>\n",
       "      <td> 27</td>\n",
       "      <td> 2</td>\n",
       "    </tr>\n",
       "    <tr>\n",
       "      <th>14</th>\n",
       "      <td>   Melissa</td>\n",
       "      <td> 61.0000</td>\n",
       "      <td> 23</td>\n",
       "      <td> 1</td>\n",
       "    </tr>\n",
       "    <tr>\n",
       "      <th>15</th>\n",
       "      <td>  Kassahun</td>\n",
       "      <td> 67.0000</td>\n",
       "      <td> 32</td>\n",
       "      <td> 3</td>\n",
       "    </tr>\n",
       "    <tr>\n",
       "      <th>16</th>\n",
       "      <td> Sebastian</td>\n",
       "      <td> 67.7165</td>\n",
       "      <td> 26</td>\n",
       "      <td> 2</td>\n",
       "    </tr>\n",
       "    <tr>\n",
       "      <th>17</th>\n",
       "      <td>    Giulia</td>\n",
       "      <td> 67.0000</td>\n",
       "      <td> 27</td>\n",
       "      <td> 2</td>\n",
       "    </tr>\n",
       "    <tr>\n",
       "      <th>18</th>\n",
       "      <td>    Siutan</td>\n",
       "      <td> 66.0000</td>\n",
       "      <td> 25</td>\n",
       "      <td> 0</td>\n",
       "    </tr>\n",
       "    <tr>\n",
       "      <th>19</th>\n",
       "      <td>      Tian</td>\n",
       "      <td> 68.0000</td>\n",
       "      <td> 23</td>\n",
       "      <td> 0</td>\n",
       "    </tr>\n",
       "    <tr>\n",
       "      <th>20</th>\n",
       "      <td>     Laure</td>\n",
       "      <td> 65.0000</td>\n",
       "      <td> 25</td>\n",
       "      <td> 3</td>\n",
       "    </tr>\n",
       "    <tr>\n",
       "      <th>21</th>\n",
       "      <td>     Katie</td>\n",
       "      <td> 67.0000</td>\n",
       "      <td> 36</td>\n",
       "      <td> 1</td>\n",
       "    </tr>\n",
       "  </tbody>\n",
       "</table>\n",
       "</div>"
      ],
      "text/plain": [
       "         name  height (inches)  age (years)  siblings (not including you)\n",
       "0     Richard          72.0000           35                             1\n",
       "1        Adam          71.0000           29                             1\n",
       "2     Rashida          62.0000           24                             0\n",
       "3        Spe           62.0000           23                             1\n",
       "4    Jiachuan          67.0000           25                             0\n",
       "5          GK          66.0000           36                             1\n",
       "6       Fanny          64.0000           32                             3\n",
       "7      Meghan          65.0000           27                             2\n",
       "8      Arthur          74.0000           49                             1\n",
       "9     Elliott          66.0000           31                             3\n",
       "10      Aliza          64.0000           23                             1\n",
       "11    Lindsay          67.0000           22                             2\n",
       "12    Michael          71.0000           49                             3\n",
       "13    Vanessa          66.0000           27                             2\n",
       "14    Melissa          61.0000           23                             1\n",
       "15   Kassahun          67.0000           32                             3\n",
       "16  Sebastian          67.7165           26                             2\n",
       "17     Giulia          67.0000           27                             2\n",
       "18     Siutan          66.0000           25                             0\n",
       "19       Tian          68.0000           23                             0\n",
       "20      Laure          65.0000           25                             3\n",
       "21      Katie          67.0000           36                             1"
      ]
     },
     "execution_count": 23,
     "metadata": {},
     "output_type": "execute_result"
    }
   ],
   "source": [
    "df"
   ]
  },
  {
   "cell_type": "code",
   "execution_count": 7,
   "metadata": {
    "collapsed": false
   },
   "outputs": [
    {
     "data": {
      "text/plain": [
       "[name, height (inches), age (years), siblings (not including you)]\n",
       "Name: [Richard, Adam, Rashida, Spe , Jiachuan, GK, Fanny, Meghan, Arthur, Elliott, Aliza, Lindsay, Michael, Vanessa, Melissa, Kassahun, Sebastian, Giulia, Siutan, Tian, Laure, Katie]\n",
       "Categories (4, object): [age (years) < height (inches) < name < siblings (not including you)]"
      ]
     },
     "execution_count": 7,
     "metadata": {},
     "output_type": "execute_result"
    }
   ],
   "source": [
    "pd.Categorical(df)"
   ]
  },
  {
   "cell_type": "code",
   "execution_count": 12,
   "metadata": {
    "collapsed": false
   },
   "outputs": [
    {
     "data": {
      "text/plain": [
       "array([[<matplotlib.axes._subplots.AxesSubplot object at 0x10797bd50>,\n",
       "        <matplotlib.axes._subplots.AxesSubplot object at 0x107bc0dd0>],\n",
       "       [<matplotlib.axes._subplots.AxesSubplot object at 0x107d40c10>,\n",
       "        <matplotlib.axes._subplots.AxesSubplot object at 0x107dc1dd0>]], dtype=object)"
      ]
     },
     "execution_count": 12,
     "metadata": {},
     "output_type": "execute_result"
    },
    {
     "data": {
      "image/png": "[encoded data removed]",
      "text/plain": [
       "<matplotlib.figure.Figure at 0x107b10c50>"
      ]
     },
     "metadata": {},
     "output_type": "display_data"
    }
   ],
   "source": [
    "df.hist()"
   ]
  },
  {
   "cell_type": "code",
   "execution_count": 16,
   "metadata": {
    "collapsed": false
   },
   "outputs": [
    {
     "data": {
      "text/plain": [
       "<matplotlib.axes._subplots.AxesSubplot at 0x108c441d0>"
      ]
     },
     "execution_count": 16,
     "metadata": {},
     "output_type": "execute_result"
    },
    {
     "data": {
      "image/png": "[encoded data removed]",
      "text/plain": [
       "<matplotlib.figure.Figure at 0x107b798d0>"
      ]
     },
     "metadata": {},
     "output_type": "display_data"
    }
   ],
   "source": [
    "df[\"age (years)\"].hist()"
   ]
  },
  {
   "cell_type": "code",
   "execution_count": 18,
   "metadata": {
    "collapsed": false
   },
   "outputs": [
    {
     "data": {
      "text/plain": [
       "height (inches)                 66.623477\n",
       "age (years)                     29.500000\n",
       "siblings (not including you)     1.500000\n",
       "dtype: float64"
      ]
     },
     "execution_count": 18,
     "metadata": {},
     "output_type": "execute_result"
    }
   ],
   "source": [
    "df.mean()"
   ]
  },
  {
   "cell_type": "code",
   "execution_count": 20,
   "metadata": {
    "collapsed": false
   },
   "outputs": [
    {
     "data": {
      "text/plain": [
       "height (inches)                 66.5\n",
       "age (years)                     27.0\n",
       "siblings (not including you)     1.0\n",
       "dtype: float64"
      ]
     },
     "execution_count": 20,
     "metadata": {},
     "output_type": "execute_result"
    }
   ],
   "source": [
    "df.median()"
   ]
  },
  {
   "cell_type": "code",
   "execution_count": 22,
   "metadata": {
    "collapsed": false
   },
   "outputs": [
    {
     "data": {
      "text/plain": [
       "height (inches)                 3.239595\n",
       "age (years)                     7.676495\n",
       "siblings (not including you)    1.057850\n",
       "dtype: float64"
      ]
     },
     "execution_count": 22,
     "metadata": {},
     "output_type": "execute_result"
    }
   ],
   "source": [
    "df.std()"
   ]
  },
  {
   "cell_type": "code",
   "execution_count": 28,
   "metadata": {
    "collapsed": false
   },
   "outputs": [
    {
     "data": {
      "text/plain": [
       "66.623477272727271"
      ]
     },
     "execution_count": 28,
     "metadata": {},
     "output_type": "execute_result"
    }
   ],
   "source": [
    "df[\"height (inches)\"].mean()"
   ]
  },
  {
   "cell_type": "code",
   "execution_count": 24,
   "metadata": {
    "collapsed": false
   },
   "outputs": [
    {
     "data": {
      "text/html": [
       "<div style=\"max-height:1000px;max-width:1500px;overflow:auto;\">\n",
       "<table border=\"1\" class=\"dataframe\">\n",
       "  <thead>\n",
       "    <tr style=\"text-align: right;\">\n",
       "      <th></th>\n",
       "      <th>name</th>\n",
       "      <th>height (inches)</th>\n",
       "      <th>age (years)</th>\n",
       "      <th>siblings (not including you)</th>\n",
       "    </tr>\n",
       "  </thead>\n",
       "  <tbody>\n",
       "    <tr>\n",
       "      <th>0</th>\n",
       "      <td>NaN</td>\n",
       "      <td> 67</td>\n",
       "      <td> 23</td>\n",
       "      <td> 1</td>\n",
       "    </tr>\n",
       "  </tbody>\n",
       "</table>\n",
       "</div>"
      ],
      "text/plain": [
       "   name  height (inches)  age (years)  siblings (not including you)\n",
       "0   NaN               67           23                             1"
      ]
     },
     "execution_count": 24,
     "metadata": {},
     "output_type": "execute_result"
    }
   ],
   "source": [
    "df.mode()"
   ]
  },
  {
   "cell_type": "code",
   "execution_count": 31,
   "metadata": {
    "collapsed": false
   },
   "outputs": [
    {
     "data": {
      "text/plain": [
       "height (inches)                 67.537375\n",
       "age (years)                     32.000000\n",
       "siblings (not including you)     2.000000\n",
       "dtype: float64"
      ]
     },
     "execution_count": 31,
     "metadata": {},
     "output_type": "execute_result"
    }
   ],
   "source": [
    "df.quantile(q=0.75)"
   ]
  },
  {
   "cell_type": "code",
   "execution_count": 38,
   "metadata": {
    "collapsed": false
   },
   "outputs": [
    {
     "data": {
      "text/plain": [
       "{'boxes': [<matplotlib.lines.Line2D at 0x10975c3d0>],\n",
       " 'caps': [<matplotlib.lines.Line2D at 0x109767290>,\n",
       "  <matplotlib.lines.Line2D at 0x1097678d0>],\n",
       " 'fliers': [<matplotlib.lines.Line2D at 0x109772590>],\n",
       " 'means': [],\n",
       " 'medians': [<matplotlib.lines.Line2D at 0x109767f10>],\n",
       " 'whiskers': [<matplotlib.lines.Line2D at 0x10975c650>,\n",
       "  <matplotlib.lines.Line2D at 0x10975cc10>]}"
      ]
     },
     "execution_count": 38,
     "metadata": {},
     "output_type": "execute_result"
    },
    {
     "data": {
      "image/png": "[encoded data removed]",
      "text/plain": [
       "<matplotlib.figure.Figure at 0x1093c7610>"
      ]
     },
     "metadata": {},
     "output_type": "display_data"
    }
   ],
   "source": [
    "df.boxplot(\"height (inches)\")"
   ]
  },
  {
   "cell_type": "code",
   "execution_count": 39,
   "metadata": {
    "collapsed": false
   },
   "outputs": [
    {
     "data": {
      "text/html": [
       "<div style=\"max-height:1000px;max-width:1500px;overflow:auto;\">\n",
       "<table border=\"1\" class=\"dataframe\">\n",
       "  <thead>\n",
       "    <tr style=\"text-align: right;\">\n",
       "      <th></th>\n",
       "      <th>height (inches)</th>\n",
       "      <th>age (years)</th>\n",
       "      <th>siblings (not including you)</th>\n",
       "    </tr>\n",
       "  </thead>\n",
       "  <tbody>\n",
       "    <tr>\n",
       "      <th>count</th>\n",
       "      <td> 22.000000</td>\n",
       "      <td> 22.000000</td>\n",
       "      <td> 22.00000</td>\n",
       "    </tr>\n",
       "    <tr>\n",
       "      <th>mean</th>\n",
       "      <td> 66.623477</td>\n",
       "      <td> 29.500000</td>\n",
       "      <td>  1.50000</td>\n",
       "    </tr>\n",
       "    <tr>\n",
       "      <th>std</th>\n",
       "      <td>  3.239595</td>\n",
       "      <td>  7.676495</td>\n",
       "      <td>  1.05785</td>\n",
       "    </tr>\n",
       "    <tr>\n",
       "      <th>min</th>\n",
       "      <td> 61.000000</td>\n",
       "      <td> 22.000000</td>\n",
       "      <td>  0.00000</td>\n",
       "    </tr>\n",
       "    <tr>\n",
       "      <th>25%</th>\n",
       "      <td> 65.000000</td>\n",
       "      <td> 24.250000</td>\n",
       "      <td>  1.00000</td>\n",
       "    </tr>\n",
       "    <tr>\n",
       "      <th>50%</th>\n",
       "      <td> 66.500000</td>\n",
       "      <td> 27.000000</td>\n",
       "      <td>  1.00000</td>\n",
       "    </tr>\n",
       "    <tr>\n",
       "      <th>75%</th>\n",
       "      <td> 67.537375</td>\n",
       "      <td> 32.000000</td>\n",
       "      <td>  2.00000</td>\n",
       "    </tr>\n",
       "    <tr>\n",
       "      <th>max</th>\n",
       "      <td> 74.000000</td>\n",
       "      <td> 49.000000</td>\n",
       "      <td>  3.00000</td>\n",
       "    </tr>\n",
       "  </tbody>\n",
       "</table>\n",
       "</div>"
      ],
      "text/plain": [
       "       height (inches)  age (years)  siblings (not including you)\n",
       "count        22.000000    22.000000                      22.00000\n",
       "mean         66.623477    29.500000                       1.50000\n",
       "std           3.239595     7.676495                       1.05785\n",
       "min          61.000000    22.000000                       0.00000\n",
       "25%          65.000000    24.250000                       1.00000\n",
       "50%          66.500000    27.000000                       1.00000\n",
       "75%          67.537375    32.000000                       2.00000\n",
       "max          74.000000    49.000000                       3.00000"
      ]
     },
     "execution_count": 39,
     "metadata": {},
     "output_type": "execute_result"
    }
   ],
   "source": [
    "df.describe()"
   ]
  }
 ],
 "metadata": {
  "kernelspec": {
   "display_name": "Python 2",
   "language": "python",
   "name": "python2"
  },
  "language_info": {
   "codemirror_mode": {
    "name": "ipython",
    "version": 2
   },
   "file_extension": ".py",
   "mimetype": "text/x-python",
   "name": "python",
   "nbconvert_exporter": "python",
   "pygments_lexer": "ipython2",
   "version": "2.7.10"
  }
 },
 "nbformat": 4,
 "nbformat_minor": 0
}
